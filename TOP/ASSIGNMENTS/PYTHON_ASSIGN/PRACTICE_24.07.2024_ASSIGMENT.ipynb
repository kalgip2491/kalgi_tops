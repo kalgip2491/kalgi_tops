{
 "cells": [
  {
   "cell_type": "code",
   "execution_count": null,
   "id": "17baac83-33cc-4755-8e2e-7d823d543119",
   "metadata": {},
   "outputs": [],
   "source": [
    "#  MODULE 7 QUE10 - "
   ]
  },
  {
   "cell_type": "markdown",
   "id": "c97c35e9-dc9e-4dc9-9744-9998bc5d3440",
   "metadata": {},
   "source": [
    "# ans"
   ]
  },
  {
   "cell_type": "code",
   "execution_count": 23,
   "id": "d633b30d-c089-40f2-ae8e-5ac72035545a",
   "metadata": {},
   "outputs": [
    {
     "name": "stdin",
     "output_type": "stream",
     "text": [
      "Enter Number is :  4\n"
     ]
    },
    {
     "name": "stdout",
     "output_type": "stream",
     "text": [
      "even\n"
     ]
    }
   ],
   "source": [
    "num = int(input(\"Enter Number is : \"))\n",
    "\n",
    "if num % 2 == 0 :\n",
    "   print(\"even\")\n",
    "\n",
    "else :\n",
    "     print(\"odd\")\n",
    "\n"
   ]
  },
  {
   "cell_type": "code",
   "execution_count": null,
   "id": "275dd496-e08d-45bf-b2bc-134c8ee45d00",
   "metadata": {},
   "outputs": [],
   "source": [
    "# MODULE 7 QUE 12"
   ]
  },
  {
   "cell_type": "markdown",
   "id": "d719c646-2887-44ec-b8e3-c46aa2188c3e",
   "metadata": {},
   "source": [
    "# ANS"
   ]
  },
  {
   "cell_type": "code",
   "execution_count": 27,
   "id": "2a9b9dd9-8c06-4e98-86bc-9e6c8c825161",
   "metadata": {},
   "outputs": [
    {
     "name": "stdout",
     "output_type": "stream",
     "text": [
      "20 21 21\n",
      "0\n"
     ]
    }
   ],
   "source": [
    "X = 10\n",
    "Y = 10\n",
    "Z = 11\n",
    "\n",
    "print(X + Y , Y + Z , Z + X)\n",
    "\n",
    "if  Y+Z and Z + X :\n",
    "    print(0)"
   ]
  },
  {
   "cell_type": "code",
   "execution_count": 20,
   "id": "b7c3e33c-175d-46a6-be47-90f6110b68ee",
   "metadata": {},
   "outputs": [],
   "source": [
    "# MODULE 7 QUE 13"
   ]
  },
  {
   "cell_type": "markdown",
   "id": "0ea2bf84-3fc4-4e77-83bd-a0b1abd10794",
   "metadata": {},
   "source": [
    "# ANS"
   ]
  },
  {
   "cell_type": "code",
   "execution_count": 25,
   "id": "bb4ad85c-9589-4014-bc26-d0c580cc9240",
   "metadata": {},
   "outputs": [
    {
     "name": "stdout",
     "output_type": "stream",
     "text": [
      "TRUE\n"
     ]
    }
   ],
   "source": [
    "X = 10\n",
    "Y = 10\n",
    "if X == Y or x+y or x-y : \n",
    "    print(\"TRUE\")"
   ]
  },
  {
   "cell_type": "code",
   "execution_count": 27,
   "id": "7610dcdd-a2b3-4ceb-8abf-e01196453c7c",
   "metadata": {},
   "outputs": [],
   "source": [
    "# MODULE 7 QUE 14"
   ]
  },
  {
   "cell_type": "markdown",
   "id": "ee28fe26-eb93-47c0-96f0-2f5fd8617b54",
   "metadata": {},
   "source": [
    "# ANS"
   ]
  },
  {
   "cell_type": "code",
   "execution_count": 29,
   "id": "fc5e3b28-4461-436f-9a1b-5eff4ff87be7",
   "metadata": {},
   "outputs": [
    {
     "name": "stdin",
     "output_type": "stream",
     "text": [
      " Enter Number :  2\n"
     ]
    },
    {
     "name": "stdout",
     "output_type": "stream",
     "text": [
      "3.0\n"
     ]
    }
   ],
   "source": [
    "n = int(input(\" Enter Number : \"))\n",
    "\n",
    "sum = (n * (n+1))/2\n",
    "print(sum)"
   ]
  },
  {
   "cell_type": "code",
   "execution_count": 30,
   "id": "e310f0fa-05d1-4d2f-9283-ceca6694521f",
   "metadata": {},
   "outputs": [],
   "source": [
    "# MODULE 7 QUE 15"
   ]
  },
  {
   "cell_type": "markdown",
   "id": "761ea92c-3347-485d-907c-58b522c8741c",
   "metadata": {},
   "source": [
    "# ANS"
   ]
  },
  {
   "cell_type": "code",
   "execution_count": 32,
   "id": "305749e2-0a6a-4d88-8e4d-a299a32802c9",
   "metadata": {},
   "outputs": [
    {
     "data": {
      "text/plain": [
       "5"
      ]
     },
     "execution_count": 32,
     "metadata": {},
     "output_type": "execute_result"
    }
   ],
   "source": [
    "g = \"Kalgi\"\n",
    "len(g)"
   ]
  },
  {
   "cell_type": "code",
   "execution_count": 1,
   "id": "3bf4f8a4-6578-45f2-9992-ff4a1603f299",
   "metadata": {},
   "outputs": [],
   "source": [
    "# MODULE 7 QUE 4"
   ]
  },
  {
   "cell_type": "markdown",
   "id": "3fb87f3d-893d-4ad7-9b7d-94b62ad1479f",
   "metadata": {},
   "source": [
    "# ANS"
   ]
  },
  {
   "cell_type": "code",
   "execution_count": 24,
   "id": "d719ffa8-d6ce-46f7-b513-e8443d3e353e",
   "metadata": {},
   "outputs": [
    {
     "name": "stdin",
     "output_type": "stream",
     "text": [
      "Enter Number:  1\n"
     ]
    },
    {
     "name": "stdout",
     "output_type": "stream",
     "text": [
      "negative\n"
     ]
    }
   ],
   "source": [
    "num = int(input(\"Enter Number: \" ))\n",
    "\n",
    "if num > 2 :\n",
    "   print(\"positive\")\n",
    "elif num == 0 :\n",
    "     print(\"zero\")\n",
    "else :\n",
    "     print(\"negative\")\n",
    "          "
   ]
  },
  {
   "cell_type": "code",
   "execution_count": 25,
   "id": "81db35e6-f0e6-4d93-8536-be672d8bea94",
   "metadata": {},
   "outputs": [],
   "source": [
    "# MODULE 7 QUE 5"
   ]
  },
  {
   "cell_type": "markdown",
   "id": "409cdbe9-8ec6-41d0-91a4-4bf7af0df016",
   "metadata": {},
   "source": [
    "# ANS"
   ]
  },
  {
   "cell_type": "code",
   "execution_count": 34,
   "id": "95f45731-502b-4596-84a8-b4b82f28c03b",
   "metadata": {},
   "outputs": [
    {
     "name": "stdin",
     "output_type": "stream",
     "text": [
      "Enter the Number :  10\n"
     ]
    },
    {
     "name": "stdout",
     "output_type": "stream",
     "text": [
      "factorial :  10\n",
      "factorial :  90\n",
      "factorial :  720\n",
      "factorial :  5040\n",
      "factorial :  30240\n",
      "factorial :  151200\n",
      "factorial :  604800\n",
      "factorial :  1814400\n",
      "factorial :  3628800\n",
      "factorial :  3628800\n"
     ]
    }
   ],
   "source": [
    "x = int(input(\"Enter the Number : \"))\n",
    "fac=1\n",
    "while (x>0) :\n",
    "    fac = fac*x\n",
    "    x=x-1\n",
    "    print(\"factorial : \",fac)\n",
    " "
   ]
  },
  {
   "cell_type": "code",
   "execution_count": 35,
   "id": "4f319b4b-8d27-403d-9190-292458df760b",
   "metadata": {},
   "outputs": [],
   "source": [
    "# MODULE 7  QUE - 6"
   ]
  },
  {
   "cell_type": "markdown",
   "id": "903660ba-e1b6-4daa-9275-ace3a550def5",
   "metadata": {},
   "source": [
    "# ANS"
   ]
  },
  {
   "cell_type": "code",
   "execution_count": 1,
   "id": "fe2d87ff-a639-4eb7-8731-4f8be7eab336",
   "metadata": {},
   "outputs": [
    {
     "name": "stdin",
     "output_type": "stream",
     "text": [
      "Enter the Number  3\n"
     ]
    },
    {
     "name": "stdout",
     "output_type": "stream",
     "text": [
      "0\n",
      "1\n",
      "1\n",
      "2\n",
      "3\n"
     ]
    }
   ],
   "source": [
    "n = int(input(\"Enter the Number \" ))\n",
    "x = 2\n",
    "y = 1\n",
    "z = 0\n",
    "while (z<=n):\n",
    "     print(z)\n",
    "     x=y\n",
    "     y=z\n",
    "     z=x+y"
   ]
  },
  {
   "cell_type": "code",
   "execution_count": 2,
   "id": "1696534f-b5fb-4130-84ea-39d601d3cf7d",
   "metadata": {},
   "outputs": [],
   "source": [
    "# MODULE 7 QUE 9"
   ]
  },
  {
   "cell_type": "markdown",
   "id": "c3a2ad3d-c612-452f-b918-a2087efb1245",
   "metadata": {},
   "source": [
    "# ANS"
   ]
  },
  {
   "cell_type": "code",
   "execution_count": 6,
   "id": "b8dc95d9-c37d-4368-a4e2-f51f91f061f6",
   "metadata": {},
   "outputs": [
    {
     "name": "stdin",
     "output_type": "stream",
     "text": [
      "Enter Number1 : 10\n",
      "Enter Number2: 20\n"
     ]
    },
    {
     "name": "stdout",
     "output_type": "stream",
     "text": [
      "after swaping : \n",
      "x : 20\n",
      "y : 10\n"
     ]
    }
   ],
   "source": [
    "x = int(input(\"Enter Number1 :\"))\n",
    "y = int(input(\"Enter Number2:\"))\n",
    "temp = x\n",
    "x = y\n",
    "y = temp\n",
    "\n",
    "print(\"after swaping : \")\n",
    "print(\"x :\" ,x)\n",
    "print(\"y :\",y)\n",
    "\n"
   ]
  },
  {
   "cell_type": "code",
   "execution_count": 10,
   "id": "686194fc-a807-415d-a172-9a54cd9d90fa",
   "metadata": {},
   "outputs": [
    {
     "name": "stdin",
     "output_type": "stream",
     "text": [
      "Enter Number1 : 10\n",
      "Enter Number2: 20\n"
     ]
    },
    {
     "name": "stdout",
     "output_type": "stream",
     "text": [
      "after swaping\n",
      "x =  20\n",
      "y =  10\n"
     ]
    }
   ],
   "source": [
    "x = int(input(\"Enter Number1 :\"))\n",
    "y = int(input(\"Enter Number2:\"))\n",
    "\n",
    "x,y=y,x\n",
    "\n",
    "print(\"after swaping\")\n",
    "print(\"x = \" , x)\n",
    "print(\"y = \", y)"
   ]
  },
  {
   "cell_type": "code",
   "execution_count": 1,
   "id": "41e08a62-a05f-40ef-aefc-56fecaa62834",
   "metadata": {},
   "outputs": [],
   "source": [
    "# MODULE 7 QUE 11 "
   ]
  },
  {
   "cell_type": "markdown",
   "id": "454b13bc-93cf-47e2-ac56-fb1860acf9c8",
   "metadata": {},
   "source": [
    "# ANS"
   ]
  },
  {
   "cell_type": "code",
   "execution_count": 20,
   "id": "e3632e1b-cf39-41d9-8212-a6839f1cd747",
   "metadata": {},
   "outputs": [
    {
     "name": "stdout",
     "output_type": "stream",
     "text": [
      "vowel is in name : kalgi\n"
     ]
    }
   ],
   "source": [
    "e = \"kalgi\"\n",
    "if 'a' in e or 'e' in e or 'i' in e or 'o' in e or 'u' in e :\n",
    "    print(\"vowel is in name :\" , e)\n",
    "else:\n",
    "    print(\"vowel is not in name :\" , e)"
   ]
  },
  {
   "cell_type": "code",
   "execution_count": 21,
   "id": "0fb030db-9844-44df-9775-c0c35c51d43b",
   "metadata": {},
   "outputs": [],
   "source": [
    "# MODULE 7 QUE 16"
   ]
  },
  {
   "cell_type": "markdown",
   "id": "71bd9271-11c5-41b6-8032-e06bf8fdc107",
   "metadata": {},
   "source": [
    "# ANS"
   ]
  },
  {
   "cell_type": "code",
   "execution_count": 33,
   "id": "ccfb2a78-2ede-4587-8886-8d32474670d0",
   "metadata": {},
   "outputs": [
    {
     "data": {
      "text/plain": [
       "2"
      ]
     },
     "execution_count": 33,
     "metadata": {},
     "output_type": "execute_result"
    }
   ],
   "source": [
    "k = \" my school name is skspl \"\n",
    "k.count(\"m\")"
   ]
  },
  {
   "cell_type": "code",
   "execution_count": 33,
   "id": "70a7bff1-e0bc-46e0-86d6-f4e73aa2f36e",
   "metadata": {},
   "outputs": [],
   "source": [
    "# MODULE 7 QUE 18"
   ]
  },
  {
   "cell_type": "code",
   "execution_count": null,
   "id": "e3168be4-d481-4c47-9931-2728485752ca",
   "metadata": {},
   "outputs": [],
   "source": [
    "# ANS"
   ]
  },
  {
   "cell_type": "code",
   "execution_count": 16,
   "id": "b50d5b70-39f3-42a5-8c30-34d2dfcdd485",
   "metadata": {},
   "outputs": [
    {
     "name": "stdin",
     "output_type": "stream",
     "text": [
      "Enter Name :  Hello kalgi\n",
      "Enter Name :  k\n"
     ]
    },
    {
     "name": "stdout",
     "output_type": "stream",
     "text": [
      "1\n"
     ]
    }
   ],
   "source": [
    "n= (input(\"Enter Name : \" ))\n",
    "m= (input(\"Enter Name : \" ))\n",
    "\n",
    "print(n.count(m))\n"
   ]
  },
  {
   "cell_type": "code",
   "execution_count": 32,
   "id": "43f3a858-161e-42dc-abb7-98972234f33c",
   "metadata": {},
   "outputs": [],
   "source": [
    "# MODULE 7 QUE 19"
   ]
  },
  {
   "cell_type": "markdown",
   "id": "ba31c12e-79fa-4560-8bfd-390639ca2a4a",
   "metadata": {},
   "source": [
    "# ANS"
   ]
  },
  {
   "cell_type": "code",
   "execution_count": 38,
   "id": "69adb48d-fcb6-4f81-8fe9-8617a71b4a7f",
   "metadata": {},
   "outputs": [
    {
     "name": "stdin",
     "output_type": "stream",
     "text": [
      "Enter Sentense :  Hi my friend my name is kalgi\n",
      "Enter Word :  my\n"
     ]
    },
    {
     "name": "stdout",
     "output_type": "stream",
     "text": [
      "2\n"
     ]
    }
   ],
   "source": [
    "Sen = (input(\"Enter Sentense : \"))\n",
    "Sen1 = (input(\"Enter Word : \"))\n",
    "\n",
    "print(Sen.count(Sen1))\n"
   ]
  },
  {
   "cell_type": "code",
   "execution_count": 34,
   "id": "385aa317-a758-48e8-a676-ba9c374bf6fe",
   "metadata": {},
   "outputs": [],
   "source": [
    "# MODULE 7 QUE 20"
   ]
  },
  {
   "cell_type": "raw",
   "id": "b15309c2-25a4-459d-b044-ff2fb95a57ba",
   "metadata": {},
   "source": [
    "# ANS"
   ]
  },
  {
   "cell_type": "code",
   "execution_count": 63,
   "id": "beac157a-9457-4ed8-abd3-d577729c48dd",
   "metadata": {},
   "outputs": [
    {
     "name": "stdin",
     "output_type": "stream",
     "text": [
      "Enter LINE1 : Yesterday\n",
      "Enter LINE2 :  Today\n"
     ]
    },
    {
     "name": "stdout",
     "output_type": "stream",
     "text": [
      "After Swaping:\n",
      "Tosterday\n",
      "Yeday\n",
      "Tosterday   Yeday\n"
     ]
    }
   ],
   "source": [
    "line1 = input(\"Enter LINE1 :\" )\n",
    "line2 = input(\"Enter LINE2 : \")\n",
    "temp = line1\n",
    "line1 = line2[0:2]+line1[2:]\n",
    "line2 = temp[0:2] + line2[2:]\n",
    "print(\"After Swaping:\")\n",
    "print(line1)\n",
    "print(line2)\n",
    "Ans = print(line1 ,\" \", line2)"
   ]
  },
  {
   "cell_type": "code",
   "execution_count": 64,
   "id": "25de234a-f966-40c4-b23a-9d9c3fd2dde5",
   "metadata": {},
   "outputs": [],
   "source": [
    "# MODULE 7 QUE 21"
   ]
  },
  {
   "cell_type": "markdown",
   "id": "1efc80b1-1cc6-4f07-8bba-9901abba0430",
   "metadata": {},
   "source": [
    "# ANS"
   ]
  },
  {
   "cell_type": "code",
   "execution_count": 86,
   "id": "84de1439-d0ba-4886-9bd0-754f24642a4a",
   "metadata": {},
   "outputs": [
    {
     "name": "stdin",
     "output_type": "stream",
     "text": [
      "Enter the Name :  string\n"
     ]
    },
    {
     "name": "stdout",
     "output_type": "stream",
     "text": [
      "stringly\n"
     ]
    }
   ],
   "source": [
    "s = input(\"Enter the Name : \" )\n",
    "if len(s) > 3 :\n",
    " if s.endswith(\"ing\") :\n",
    "      s += \"ly\"\n",
    "else :\n",
    "     s += \"in\"\n",
    "print(s)"
   ]
  },
  {
   "cell_type": "code",
   "execution_count": 145,
   "id": "92331f40-42c0-4cf5-ba27-acda45ed45ca",
   "metadata": {},
   "outputs": [],
   "source": [
    "# MODULE 7 QUE 22"
   ]
  },
  {
   "cell_type": "markdown",
   "id": "a27a2ed7-3926-4145-b8b1-4620f68690e5",
   "metadata": {},
   "source": [
    "# ANS"
   ]
  },
  {
   "cell_type": "code",
   "execution_count": 4,
   "id": "200048ad-76d2-4ba8-87ce-58d001d494fe",
   "metadata": {},
   "outputs": [
    {
     "name": "stdin",
     "output_type": "stream",
     "text": [
      "Enter Name:  python i\n"
     ]
    },
    {
     "name": "stdout",
     "output_type": "stream",
     "text": [
      "i nohtyp\n"
     ]
    }
   ],
   "source": [
    "s = input(\"Enter Name: \")\n",
    "if len(s)%4 == 0:\n",
    "    i = s[::-1]\n",
    "    print(i)"
   ]
  },
  {
   "cell_type": "code",
   "execution_count": 146,
   "id": "1de52c57-7e46-4308-b38e-f6389e977da2",
   "metadata": {},
   "outputs": [],
   "source": [
    "# MODULE 7 QUE 23"
   ]
  },
  {
   "cell_type": "markdown",
   "id": "7f613508-9b9e-40e4-b9ce-a9d2750aa01b",
   "metadata": {},
   "source": [
    "# ANS"
   ]
  },
  {
   "cell_type": "code",
   "execution_count": 7,
   "id": "1020b7e1-f75d-4d06-9cda-22a42e6e8853",
   "metadata": {},
   "outputs": [
    {
     "name": "stdin",
     "output_type": "stream",
     "text": [
      "Enter Name :  hello python\n"
     ]
    },
    {
     "name": "stdout",
     "output_type": "stream",
     "text": [
      "k2 : heon\n"
     ]
    }
   ],
   "source": [
    "k=input(\"Enter Name : \")\n",
    "print(\"k2 :\",k[0:2] +k[-2:],)\n",
    "if len(k) < 2 :\n",
    "   print(k)"
   ]
  },
  {
   "cell_type": "code",
   "execution_count": 30,
   "id": "2f1812a8-e687-4dca-a319-f351684a87bb",
   "metadata": {},
   "outputs": [],
   "source": [
    "# MODULE 7 QUE 24"
   ]
  },
  {
   "cell_type": "markdown",
   "id": "e4adbc0d-1e2a-4194-b94d-caa005708408",
   "metadata": {},
   "source": [
    "# ANS"
   ]
  },
  {
   "cell_type": "code",
   "execution_count": 1,
   "id": "0d24ccc2-d4e6-447a-8b83-863bdf394f65",
   "metadata": {},
   "outputs": [
    {
     "name": "stdout",
     "output_type": "stream",
     "text": [
      "My favourite Subject\n"
     ]
    }
   ],
   "source": [
    "x = \"My Subject\"\n",
    "print(x[0:2] +\" \"+\"favourite\"+\" \" + x[3:])"
   ]
  },
  {
   "cell_type": "code",
   "execution_count": 2,
   "id": "d9c2922a-59e8-4ce0-b59f-719013a4afdf",
   "metadata": {},
   "outputs": [],
   "source": [
    "# MODULE 7 QUE 27"
   ]
  },
  {
   "cell_type": "markdown",
   "id": "25e2b81f-11d2-49c6-a140-44e07106cf26",
   "metadata": {},
   "source": [
    "# Ans"
   ]
  },
  {
   "cell_type": "code",
   "execution_count": 3,
   "id": "86f4ba2e-c852-415e-a590-797e1d519911",
   "metadata": {},
   "outputs": [
    {
     "data": {
      "text/plain": [
       "25"
      ]
     },
     "execution_count": 3,
     "metadata": {},
     "output_type": "execute_result"
    }
   ],
   "source": [
    "list1 = [2,33,222,14,25]\n",
    "list1[-1]"
   ]
  },
  {
   "cell_type": "code",
   "execution_count": 5,
   "id": "a20805b7-1e79-46f6-9c70-cb7a9dc1f25b",
   "metadata": {},
   "outputs": [],
   "source": [
    "# MODULE 7 Que 29"
   ]
  },
  {
   "cell_type": "markdown",
   "id": "c2692feb-e90e-4f0f-a8fe-0508d4cd9dcf",
   "metadata": {},
   "source": [
    "# ANS"
   ]
  },
  {
   "cell_type": "code",
   "execution_count": 19,
   "id": "034d53b5-b83c-49cb-a2a6-907e6f66a8ba",
   "metadata": {},
   "outputs": [
    {
     "name": "stdout",
     "output_type": "stream",
     "text": [
      "[2, 6, 45, 56, 87, 222]\n",
      "Smallest Num :  2\n",
      "Largest Num :  222\n",
      "Sum of the Num :  418\n"
     ]
    }
   ],
   "source": [
    "x = [ 222 , 56, 45, 87 ,2 ,6]\n",
    "x.sort()\n",
    "print(x)\n",
    "print(\"Smallest Num : \", x[0])\n",
    "print(\"Largest Num : \",x[-1])\n",
    "print(\"Sum of the Num : \" , sum(x))"
   ]
  },
  {
   "cell_type": "code",
   "execution_count": 20,
   "id": "f5434404-ad97-441a-983c-ed3b334ad236",
   "metadata": {},
   "outputs": [],
   "source": [
    "# MODULE 7 Que 30"
   ]
  },
  {
   "cell_type": "markdown",
   "id": "cf9c58da-dd4c-4bf9-9269-abdbc7219bc7",
   "metadata": {},
   "source": [
    "# ANS"
   ]
  },
  {
   "cell_type": "code",
   "execution_count": 41,
   "id": "b8873b0d-025a-4901-9e22-cabd288ebe3a",
   "metadata": {},
   "outputs": [
    {
     "name": "stdout",
     "output_type": "stream",
     "text": [
      "Compare :  3\n",
      "Not Compare :  2\n",
      "Not Compare :  6\n"
     ]
    }
   ],
   "source": [
    "x = [ 1 ,3 ,5]\n",
    "y = [ 3 , 2 ,6]\n",
    "\n",
    "for n in y :\n",
    "    if n in x:\n",
    "        print(\"Compare : \" , n)\n",
    "    else : \n",
    "        print(\"Not Compare : \" , n)\n"
   ]
  },
  {
   "cell_type": "code",
   "execution_count": 42,
   "id": "a7a18722-7e44-4995-822f-15c6f5fc7439",
   "metadata": {},
   "outputs": [],
   "source": [
    "# MODULE 7 Que 31"
   ]
  },
  {
   "cell_type": "markdown",
   "id": "4c992535-6a1c-43cb-b1a2-e026138e5ffd",
   "metadata": {},
   "source": [
    "# Ans"
   ]
  },
  {
   "cell_type": "code",
   "execution_count": 72,
   "id": "63cadac3-85eb-4bf5-846c-edb40d86bbec",
   "metadata": {},
   "outputs": [
    {
     "name": "stdout",
     "output_type": "stream",
     "text": [
      "Result : aba\n",
      "count: 1\n",
      "Result : cdc\n",
      "count: 2\n",
      "Result : 121\n",
      "count: 3\n"
     ]
    }
   ],
   "source": [
    "x = [\"aba\" , \"bcd\" , \"cdc\", \"113\" , \"121\"]\n",
    "y=0\n",
    "for n in x :\n",
    "    if len(n) > 2 and n[0] == n[-1]:\n",
    "        print(\"Result :\" ,n)\n",
    "        y=y+1\n",
    "print(\"count:\" ,y)"
   ]
  },
  {
   "cell_type": "code",
   "execution_count": 7,
   "id": "5094ec9f-73ce-4b1c-ae1d-e646d4d06aad",
   "metadata": {},
   "outputs": [],
   "source": [
    "# MOdule 7 que 32"
   ]
  },
  {
   "cell_type": "markdown",
   "id": "763cf0a1-8ed9-4fc8-8c7f-e13c2dd2210a",
   "metadata": {},
   "source": [
    "# ANS"
   ]
  },
  {
   "cell_type": "code",
   "execution_count": 6,
   "id": "e480c838-3a65-4000-b2ad-cb6c07838199",
   "metadata": {},
   "outputs": [
    {
     "name": "stdout",
     "output_type": "stream",
     "text": [
      "['apple', 'mango', 'orange']\n"
     ]
    }
   ],
   "source": [
    "fruits = [\"mango\" , \"orange\",\"apple\", \"mango\"]\n",
    "print(list(set(fruits)))"
   ]
  },
  {
   "cell_type": "code",
   "execution_count": 9,
   "id": "110e3f3c-80ef-483c-a2c7-d3a805c16225",
   "metadata": {},
   "outputs": [],
   "source": [
    "# Module 7 que 33"
   ]
  },
  {
   "cell_type": "markdown",
   "id": "39c47cf6-9cbe-46ee-bcf4-cef30f951491",
   "metadata": {},
   "source": [
    "# Ans"
   ]
  },
  {
   "cell_type": "code",
   "execution_count": 7,
   "id": "bbd71da2-d2d8-409d-92cb-b9abd841a76d",
   "metadata": {},
   "outputs": [
    {
     "name": "stdout",
     "output_type": "stream",
     "text": [
      "List is Empty : \n"
     ]
    }
   ],
   "source": [
    "lst1 = []\n",
    "if not lst1 :\n",
    "    print(\"List is Empty : \")\n",
    "else :\n",
    "    print(\"List is filled:\")"
   ]
  },
  {
   "cell_type": "code",
   "execution_count": 8,
   "id": "80b1ce78-21be-46bc-a859-3b40ebed5e3a",
   "metadata": {},
   "outputs": [],
   "source": [
    "# Module 7 que 34"
   ]
  },
  {
   "cell_type": "markdown",
   "id": "6b7289db-992b-4555-8814-c1b09456ce5c",
   "metadata": {},
   "source": [
    "# ans "
   ]
  },
  {
   "cell_type": "code",
   "execution_count": 1,
   "id": "7ac8ba0e-3f55-4a40-979f-b43a4a0fa72f",
   "metadata": {},
   "outputs": [
    {
     "name": "stdout",
     "output_type": "stream",
     "text": [
      "TRUE\n",
      "TRUE\n"
     ]
    }
   ],
   "source": [
    "lst1 = [1,2,3,4,5]\n",
    "lst2 = [4,5,6,7,8]\n",
    "for x in lst1 :\n",
    "    for y in lst2:\n",
    "        if (x == y):\n",
    "            print(\"TRUE\")"
   ]
  },
  {
   "cell_type": "code",
   "execution_count": 5,
   "id": "84c0a1ca-cd20-4e09-a9c2-016cc01c8662",
   "metadata": {},
   "outputs": [
    {
     "ename": "TypeError",
     "evalue": "'<' not supported between instances of 'int' and 'list'",
     "output_type": "error",
     "traceback": [
      "\u001b[1;31m---------------------------------------------------------------------------\u001b[0m",
      "\u001b[1;31mTypeError\u001b[0m                                 Traceback (most recent call last)",
      "Cell \u001b[1;32mIn[5], line 4\u001b[0m\n\u001b[0;32m      2\u001b[0m y \u001b[38;5;241m=\u001b[39m [\u001b[38;5;241m4\u001b[39m,\u001b[38;5;241m5\u001b[39m,\u001b[38;5;241m6\u001b[39m,\u001b[38;5;241m7\u001b[39m,\u001b[38;5;241m8\u001b[39m]\n\u001b[0;32m      3\u001b[0m n \u001b[38;5;241m=\u001b[39m \u001b[38;5;241m0\u001b[39m\n\u001b[1;32m----> 4\u001b[0m \u001b[38;5;28;01mwhile\u001b[39;00m n \u001b[38;5;241m<\u001b[39m x :\n\u001b[0;32m      5\u001b[0m     \u001b[38;5;28;01mif\u001b[39;00m x \u001b[38;5;241m==\u001b[39m y:\n\u001b[0;32m      6\u001b[0m         \u001b[38;5;28mprint\u001b[39m(\u001b[38;5;124m\"\u001b[39m\u001b[38;5;124mTRUE\u001b[39m\u001b[38;5;124m\"\u001b[39m)\n",
      "\u001b[1;31mTypeError\u001b[0m: '<' not supported between instances of 'int' and 'list'"
     ]
    }
   ],
   "source": [
    "x = [1,2,3,4,5]\n",
    "y = [4,5,6,7,8]\n",
    "n = 0\n",
    "while n < x :\n",
    "    if x == y:\n",
    "        print(\"TRUE\")\n",
    "        n=n+1\n"
   ]
  },
  {
   "cell_type": "code",
   "execution_count": 1,
   "id": "4351f070-6f3d-478e-b3c1-3262c5141304",
   "metadata": {},
   "outputs": [],
   "source": [
    "# Module 7 Que 35"
   ]
  },
  {
   "cell_type": "markdown",
   "id": "ca368571-a935-4284-a24f-fbccb7bcfe7f",
   "metadata": {},
   "source": [
    "# ANS"
   ]
  },
  {
   "cell_type": "code",
   "execution_count": 2,
   "id": "97083e44-f756-4f89-9bab-49e730c6b316",
   "metadata": {},
   "outputs": [
    {
     "name": "stdout",
     "output_type": "stream",
     "text": [
      "[1, 4, 9, 16, 25, 36, 49, 64, 81, 100, 121, 144, 169, 196, 225, 256, 289, 324, 361, 400, 441, 484, 529, 576, 625, 676, 729, 784, 841]\n",
      "First Five ele: [1, 4, 9, 16, 25]\n",
      "Last five ele: [625, 676, 729, 784, 841]\n"
     ]
    }
   ],
   "source": [
    "x = []\n",
    "for i in range(1,30):\n",
    "    x.append(i*i)\n",
    "print(x)\n",
    "print(\"First Five ele:\",x[0:5])\n",
    "print(\"Last five ele:\" ,x[-5:])\n",
    "    "
   ]
  },
  {
   "cell_type": "code",
   "execution_count": 6,
   "id": "0e4b84d0-29d9-4e77-8f2f-f13e8762ac1a",
   "metadata": {},
   "outputs": [],
   "source": [
    "#module 7 Que 36"
   ]
  },
  {
   "cell_type": "markdown",
   "id": "32172b95-601f-46d4-86fd-a16e1ba17887",
   "metadata": {},
   "source": [
    "# ans"
   ]
  },
  {
   "cell_type": "code",
   "execution_count": 17,
   "id": "db014307-d03c-4041-8f9d-6367351f4f19",
   "metadata": {},
   "outputs": [
    {
     "name": "stdout",
     "output_type": "stream",
     "text": [
      "yellow@orange@pink@"
     ]
    }
   ],
   "source": [
    "x = [\"yellow\",\"orange\",\"pink\"]\n",
    "for n in x :\n",
    "    print(n, end = \"@\")\n",
    "\n"
   ]
  },
  {
   "cell_type": "code",
   "execution_count": 1,
   "id": "c2c6c55e-5408-4394-ab08-06d992dc8353",
   "metadata": {},
   "outputs": [],
   "source": [
    "# module 7 que 37"
   ]
  },
  {
   "cell_type": "markdown",
   "id": "3163dc97-0fc1-4cec-a613-18350025d607",
   "metadata": {},
   "source": [
    "#ANS"
   ]
  },
  {
   "cell_type": "code",
   "execution_count": 6,
   "id": "de73717b-2014-43c9-b1bd-d86c41a4fdb5",
   "metadata": {},
   "outputs": [
    {
     "name": "stdout",
     "output_type": "stream",
     "text": [
      "ORANGEAPPLEBANANA\n"
     ]
    }
   ],
   "source": [
    "x = [\"ORANGE\" , \"APPLE\" , \"BANANA\"]\n",
    "y = \"\".join(x)\n",
    "print(y)"
   ]
  },
  {
   "cell_type": "code",
   "execution_count": 8,
   "id": "a3901ff7-b9cb-407a-8841-046938c7370c",
   "metadata": {},
   "outputs": [],
   "source": [
    "# module 7 que 38"
   ]
  },
  {
   "cell_type": "markdown",
   "id": "81688a23-8816-4e15-ac31-a06ec9320752",
   "metadata": {},
   "source": [
    "# ans"
   ]
  },
  {
   "cell_type": "code",
   "execution_count": 13,
   "id": "852566a9-8d5f-4769-a5f5-0bd1a7942d88",
   "metadata": {},
   "outputs": [],
   "source": [
    "import random"
   ]
  },
  {
   "cell_type": "code",
   "execution_count": 15,
   "id": "ff83f8c8-def3-4d7c-bb99-52abe192e913",
   "metadata": {},
   "outputs": [
    {
     "name": "stdout",
     "output_type": "stream",
     "text": [
      "23\n"
     ]
    }
   ],
   "source": [
    "lst = [32, 23 ,2 , 6 ]\n",
    "\n",
    "print(random.choice(lst))"
   ]
  },
  {
   "cell_type": "code",
   "execution_count": 16,
   "id": "2613b004-72b5-4c2f-8883-3dfcc51c3cf4",
   "metadata": {},
   "outputs": [],
   "source": [
    "# module 7 que 39"
   ]
  },
  {
   "cell_type": "markdown",
   "id": "cb855da7-ea41-4c1f-9d60-fcd08184d4ba",
   "metadata": {},
   "source": [
    "# ans"
   ]
  },
  {
   "cell_type": "code",
   "execution_count": 1,
   "id": "574352ff-a029-40b4-84ef-0d1a3cb1d37a",
   "metadata": {},
   "outputs": [
    {
     "name": "stdout",
     "output_type": "stream",
     "text": [
      "lst1 : [1, 3, 32, 56, 78]\n",
      "second smallest num :  3\n"
     ]
    }
   ],
   "source": [
    "lst = [32 , 56 , 78 ,1 , 3 ]\n",
    "lst.sort()\n",
    "print(\"lst1 :\", lst)\n",
    "print(\"second smallest num : \",lst[1])"
   ]
  },
  {
   "cell_type": "code",
   "execution_count": 1,
   "id": "5ca7f9b8-8c98-4ed2-bf72-7a2ece3e5d5a",
   "metadata": {},
   "outputs": [],
   "source": [
    "# module 7 que 40"
   ]
  },
  {
   "cell_type": "markdown",
   "id": "a5e1e0aa-3c28-4ff3-a67c-db9ee1b78fd0",
   "metadata": {},
   "source": [
    "# ans"
   ]
  },
  {
   "cell_type": "code",
   "execution_count": 2,
   "id": "16ab9497-a6d2-48f1-b083-2c8091b0cd91",
   "metadata": {},
   "outputs": [
    {
     "name": "stdout",
     "output_type": "stream",
     "text": [
      "[1, 11, 2, 5, 4, 7, 8, 9, 3]\n"
     ]
    }
   ],
   "source": [
    "lst = [1,11,2,5,2,11,4,7,8,9,3]\n",
    "unq_lst = []\n",
    "\n",
    "for x in lst:\n",
    "    if x not in unq_lst :\n",
    "        unq_lst.append(x)\n",
    "print(unq_lst)        "
   ]
  },
  {
   "cell_type": "code",
   "execution_count": 3,
   "id": "31f00b1f-b082-4f69-8350-c527540a257a",
   "metadata": {},
   "outputs": [],
   "source": [
    "# module 7 que 41"
   ]
  },
  {
   "cell_type": "markdown",
   "id": "9b9afbc4-2c83-4339-a9c8-2f755b05ef0e",
   "metadata": {},
   "source": [
    "# ans"
   ]
  },
  {
   "cell_type": "code",
   "execution_count": 10,
   "id": "2720f794-dc2c-42cb-9daf-e5c7c6ce5909",
   "metadata": {},
   "outputs": [
    {
     "name": "stdout",
     "output_type": "stream",
     "text": [
      "sublist is present in list : \n"
     ]
    }
   ],
   "source": [
    "x = [\"a\",\"b\",[1,2,3]]\n",
    "\n",
    "for i in x :\n",
    "    if len(i) > 1 :\n",
    "        print(\"sublist is present in list : \")\n",
    "        break\n",
    "else : \n",
    " print(\"sublist is not in list:\")"
   ]
  },
  {
   "cell_type": "code",
   "execution_count": 9,
   "id": "66b344ef-a3ad-4676-814c-ae41658ffd60",
   "metadata": {},
   "outputs": [],
   "source": [
    "# module 7 que 42"
   ]
  },
  {
   "cell_type": "markdown",
   "id": "bade2729-5fa6-4ed1-945a-bea0a66922ce",
   "metadata": {},
   "source": [
    "# ans"
   ]
  },
  {
   "cell_type": "code",
   "execution_count": 22,
   "id": "4c17f56b-e2e9-4c11-ba1a-4579a04ddd5a",
   "metadata": {},
   "outputs": [
    {
     "name": "stdout",
     "output_type": "stream",
     "text": [
      "var: ['hii', 'hello', 32, 5]\n",
      "lst a: hii\n",
      "lst b: hello\n",
      "lst c: 32\n",
      "lst d: 5\n"
     ]
    }
   ],
   "source": [
    "lst = [\"hii\" ,\"hello\" ,32 ,5]\n",
    "print(\"var:\", lst)\n",
    "a,b,c,d = lst\n",
    "print(\"lst a:\", a)\n",
    "print(\"lst b:\", b)\n",
    "print(\"lst c:\", c)\n",
    "print(\"lst d:\", d)"
   ]
  },
  {
   "cell_type": "code",
   "execution_count": 28,
   "id": "5f490cfe-38f4-4955-8ee2-c47bf7dfc145",
   "metadata": {},
   "outputs": [],
   "source": [
    "# module 7 que 44"
   ]
  },
  {
   "cell_type": "markdown",
   "id": "54e7756d-c86a-447f-ad6c-a41dea616c3c",
   "metadata": {},
   "source": [
    "# ans"
   ]
  },
  {
   "cell_type": "code",
   "execution_count": 26,
   "id": "99e6c7de-1683-4b69-90d8-d6030f507d15",
   "metadata": {},
   "outputs": [
    {
     "name": "stdout",
     "output_type": "stream",
     "text": [
      "('python', 'TRUE', 2.3, 8)\n",
      "<class 'tuple'>\n"
     ]
    }
   ],
   "source": [
    "x = (\"python\" , \"TRUE\" , 2.3 , 8)\n",
    "print(x)\n",
    "print(type(x))"
   ]
  },
  {
   "cell_type": "code",
   "execution_count": 30,
   "id": "9d49160c-4961-4866-9725-224efc19927b",
   "metadata": {},
   "outputs": [],
   "source": [
    "# module 7 que 45"
   ]
  },
  {
   "cell_type": "markdown",
   "id": "06a8b866-382f-4e42-aa89-582f7be710eb",
   "metadata": {},
   "source": [
    "# ans"
   ]
  },
  {
   "cell_type": "code",
   "execution_count": 31,
   "id": "f05d984a-6b56-4a7b-8075-7619b8096dfc",
   "metadata": {},
   "outputs": [],
   "source": [
    "# module 7 que 46"
   ]
  },
  {
   "cell_type": "markdown",
   "id": "b0e8bc01-6809-4dec-9a8a-2efeeac0b64c",
   "metadata": {},
   "source": [
    "# ans"
   ]
  },
  {
   "cell_type": "code",
   "execution_count": 48,
   "id": "88a69901-e635-4ad4-83fc-35456f16f48f",
   "metadata": {},
   "outputs": [],
   "source": [
    "tpl1 = [\"A\" ,\"B\" ,\"C\" ]\n",
    "tpl2 = (0,1,2)"
   ]
  },
  {
   "cell_type": "code",
   "execution_count": 49,
   "id": "4a95db9d-d538-4002-9d7c-61af03c565d1",
   "metadata": {},
   "outputs": [
    {
     "name": "stdout",
     "output_type": "stream",
     "text": [
      "{'A': (0, 1, 2), 'B': (0, 1, 2), 'C': (0, 1, 2)}\n",
      "<class 'dict'>\n"
     ]
    }
   ],
   "source": [
    "tpl1=dict.fromkeys(tpl1,tpl2)\n",
    "print(tpl1)\n",
    "print(type(tpl1))"
   ]
  },
  {
   "cell_type": "code",
   "execution_count": 50,
   "id": "066d98bc-4730-47eb-903e-405e186c39cb",
   "metadata": {},
   "outputs": [],
   "source": [
    "# module 7 que 47\n"
   ]
  },
  {
   "cell_type": "markdown",
   "id": "f0a4bf2a-2eb0-4e49-9f13-9ad91d91b1de",
   "metadata": {},
   "source": [
    "# ans"
   ]
  },
  {
   "cell_type": "code",
   "execution_count": 52,
   "id": "37c7b3e8-b15a-48cd-a8fb-2435dfc0b2d1",
   "metadata": {},
   "outputs": [
    {
     "name": "stdout",
     "output_type": "stream",
     "text": [
      "{'Name': 'kalgi', 'surname': 'patel', 'age': 29}\n",
      "<class 'dict'>\n"
     ]
    }
   ],
   "source": [
    "x = dict(Name = \"kalgi\",surname = \"patel\", age = 29 )\n",
    "print(x)\n",
    "print(type(x))"
   ]
  },
  {
   "cell_type": "code",
   "execution_count": 58,
   "id": "0af8bddc-4693-45f1-b010-bdaa2f5ebeff",
   "metadata": {},
   "outputs": [],
   "source": [
    "# module 7 que 49"
   ]
  },
  {
   "cell_type": "markdown",
   "id": "4c1f91e6-3cb8-4b02-bc10-bc64ba77ac49",
   "metadata": {},
   "source": [
    "# ans"
   ]
  },
  {
   "cell_type": "code",
   "execution_count": 60,
   "id": "683ab856-3917-4105-82e4-6294f5a1cd13",
   "metadata": {},
   "outputs": [
    {
     "name": "stdout",
     "output_type": "stream",
     "text": [
      "new dic: {'stu1': {'name': 'kalgi', 'marks': 69, 'sub': 'english'}, 'stu2': {'name': 'VARUN', 'marks': 87, 'sub': 'english'}, 'stu3': {'name': 'sachin', 'marks': 98, 'sub': 'english'}}\n"
     ]
    }
   ],
   "source": [
    "dic1 = {\n",
    "    \"name\" : \"kalgi\",\n",
    "    \"marks\" : 69 ,\n",
    "    \"sub\" : \"english\"\n",
    "}\n",
    "\n",
    "dic2 = {\n",
    "    \"name\" : \"VARUN\",\n",
    "    \"marks\" : 87 ,\n",
    "    \"sub\" : \"english\"\n",
    "}\n",
    "\n",
    "dic3 = {\n",
    "    \"name\" : \"sachin\",\n",
    "    \"marks\" : 98 ,\n",
    "    \"sub\" : \"english\"\n",
    "}\n",
    "\n",
    "student = {\n",
    "    \"stu1\" : dic1,\n",
    "    \"stu2\" : dic2,\n",
    "    \"stu3\" : dic3\n",
    "}\n",
    "print(\"new dic:\" ,student)"
   ]
  },
  {
   "cell_type": "code",
   "execution_count": 61,
   "id": "4acf4d4f-11f5-4c78-83a5-e4558a3ff22f",
   "metadata": {},
   "outputs": [],
   "source": [
    "# module 7 que 50"
   ]
  },
  {
   "cell_type": "markdown",
   "id": "5a2460e6-7179-4fc6-b70d-fa7e1e80839f",
   "metadata": {},
   "source": [
    "# ans"
   ]
  },
  {
   "cell_type": "code",
   "execution_count": 71,
   "id": "6351bcb0-f75c-442b-95c0-cd2595b1f021",
   "metadata": {},
   "outputs": [
    {
     "name": "stdout",
     "output_type": "stream",
     "text": [
      "key exist\n"
     ]
    }
   ],
   "source": [
    "dic1 = { \"name\" : \"kalgi\", \"marks\" : 69 , \"sub\" : \"english\"}\n",
    "\n",
    "if \"marks\" in dic1 :\n",
    "    print(\"key exist\")\n",
    "\n",
    "else:\n",
    "    print(\"key does not exist\")"
   ]
  },
  {
   "cell_type": "code",
   "execution_count": 1,
   "id": "165f5768-81e3-4e97-a9cc-723cd8340e56",
   "metadata": {},
   "outputs": [],
   "source": [
    "# module 7 que 51"
   ]
  },
  {
   "cell_type": "markdown",
   "id": "9ee17720-48b2-49ed-87d8-93b92c933796",
   "metadata": {},
   "source": [
    "# ans"
   ]
  },
  {
   "cell_type": "code",
   "execution_count": 5,
   "id": "d19a4889-a3f9-42ad-bffe-8d0b6eb4e3c4",
   "metadata": {},
   "outputs": [
    {
     "name": "stdout",
     "output_type": "stream",
     "text": [
      "manoj result is: 89\n",
      "kalgi result is: 78\n",
      "kiran result is: 85\n"
     ]
    }
   ],
   "source": [
    "dic = {\"manoj\":89 ,\"kalgi\" : 78 , \"kiran\" : 85}\n",
    "for n in dic :\n",
    "    print(n,\"result is:\",dic[n])"
   ]
  },
  {
   "cell_type": "code",
   "execution_count": 6,
   "id": "e2e815ab-f3c1-4f6a-8d61-587fc21dd091",
   "metadata": {},
   "outputs": [],
   "source": [
    "# module 7 que 52"
   ]
  },
  {
   "cell_type": "markdown",
   "id": "a7e1664e-23ae-49d0-9b51-82ca779a97d7",
   "metadata": {},
   "source": [
    "# ans "
   ]
  },
  {
   "cell_type": "code",
   "execution_count": 15,
   "id": "f18b0289-5a88-4df0-a0d2-c42ef59e1986",
   "metadata": {},
   "outputs": [
    {
     "name": "stdin",
     "output_type": "stream",
     "text": [
      "enter the name :  roshni\n"
     ]
    },
    {
     "name": "stdout",
     "output_type": "stream",
     "text": [
      "key is exist\n"
     ]
    }
   ],
   "source": [
    "x = {\"radhika\":56 ,\"sarika\" : 85 ,\"roshni\" : 45 ,\"manisha\" : 99}\n",
    "n = input(\"enter the name : \")\n",
    "if n in dict.keys(x) :\n",
    "    print(\"key is exist\")\n",
    "else:\n",
    "    print(\"does not exist\")\n"
   ]
  },
  {
   "cell_type": "code",
   "execution_count": 57,
   "id": "cec42e60-03f8-443a-a1a0-732249a2980c",
   "metadata": {},
   "outputs": [],
   "source": [
    "# module 7 que 55"
   ]
  },
  {
   "cell_type": "markdown",
   "id": "3a735599-813f-42a7-83f3-577d488fd2fd",
   "metadata": {},
   "source": [
    "# ans "
   ]
  },
  {
   "cell_type": "code",
   "execution_count": 67,
   "id": "afb5b9aa-706f-471c-bcaf-71be4965e440",
   "metadata": {},
   "outputs": [
    {
     "name": "stdout",
     "output_type": "stream",
     "text": [
      "new dict: {'name': 'kalgi', 'calss': 'tts', 'lanquage': 'english', 'age': 29, 'state': 'gujarat', 'city': 'Ahmedabad'}\n"
     ]
    }
   ],
   "source": [
    "x ={\"name\" : \"kalgi\" ,\"calss\" : \"tts\",\"lanquage\" : \"english\"}\n",
    "y = {\"age\" : 29 , \"state\" : \"gujarat\" , \"city\" : \"Ahmedabad\"}\n",
    "\n",
    "print(\"new dict:\" ,x|y)"
   ]
  },
  {
   "cell_type": "code",
   "execution_count": 68,
   "id": "2c871f10-ab18-4892-9ba1-5b2c4e8bc2c0",
   "metadata": {},
   "outputs": [],
   "source": [
    "# module 7 que 56"
   ]
  },
  {
   "cell_type": "markdown",
   "id": "c5e1920d-0e60-419f-897c-f0734ab9259c",
   "metadata": {},
   "source": [
    "# ans"
   ]
  },
  {
   "cell_type": "code",
   "execution_count": 84,
   "id": "137d173c-822a-4cf4-8989-ec7f3f3ecb96",
   "metadata": {},
   "outputs": [
    {
     "name": "stdout",
     "output_type": "stream",
     "text": [
      "counter( {'a': 400, 'b': 400, 'd': 400, 'c': 300} )\n"
     ]
    }
   ],
   "source": [
    "dic1 = [\"a\",\"b\",\"d\",\"c\"]\n",
    "dic2 = [400,400,400,300]\n",
    "dic3=dict(zip(dic1,dic2))\n",
    "print(\"counter(\",dic3,\")\")"
   ]
  },
  {
   "cell_type": "code",
   "execution_count": 85,
   "id": "bcc7a07b-5a17-4144-8dd6-e37bf028354a",
   "metadata": {},
   "outputs": [],
   "source": [
    "# module 7 que 57"
   ]
  },
  {
   "cell_type": "markdown",
   "id": "fb58fc1f-bd47-45aa-8aab-0a4e390dce88",
   "metadata": {},
   "source": [
    "# ans"
   ]
  },
  {
   "cell_type": "code",
   "execution_count": 18,
   "id": "31988271-5f6f-42be-b899-29bb1b9e2d43",
   "metadata": {},
   "outputs": [
    {
     "name": "stdout",
     "output_type": "stream",
     "text": [
      "marks\n"
     ]
    },
    {
     "data": {
      "text/plain": [
       "65"
      ]
     },
     "execution_count": 18,
     "metadata": {},
     "output_type": "execute_result"
    }
   ],
   "source": [
    "g = {\"height\" : 4 ,\"marks\" : 65 ,\"class\" : 1,\"sub\" : 6 , \"books\" : 20}\n",
    "x = max(g,key =g.get)\n",
    "print(x)\n",
    "g[\"marks\"]"
   ]
  },
  {
   "cell_type": "code",
   "execution_count": 1,
   "id": "a2406c37-7904-42be-a20a-7ac53821c6df",
   "metadata": {},
   "outputs": [],
   "source": [
    "# MODULE 7 QUE 59"
   ]
  },
  {
   "cell_type": "markdown",
   "id": "f4f10ddd-771b-47a0-b9b8-dd37c917f8b8",
   "metadata": {},
   "source": [
    "# ANS"
   ]
  },
  {
   "cell_type": "code",
   "execution_count": 3,
   "id": "732d4a0d-6ecd-46a6-940c-8f649298c073",
   "metadata": {},
   "outputs": [
    {
     "name": "stdin",
     "output_type": "stream",
     "text": [
      "enter the string my name is kalgi\n"
     ]
    },
    {
     "name": "stdout",
     "output_type": "stream",
     "text": [
      "{'m': 2, 'y': 1, ' ': 3, 'n': 1, 'a': 2, 'e': 1, 'i': 2, 's': 1, 'k': 1, 'l': 1, 'g': 1}\n"
     ]
    }
   ],
   "source": [
    "x = input(\"enter the string\")\n",
    "dic = {}\n",
    "\n",
    "for n in x :\n",
    "    dic[n]=dic.get(n,0)+1\n",
    "print(dic)    "
   ]
  },
  {
   "cell_type": "code",
   "execution_count": 7,
   "id": "25e83b38-682a-443f-8cd3-e10b36e5f89f",
   "metadata": {},
   "outputs": [],
   "source": [
    "# module 7 que 60"
   ]
  },
  {
   "cell_type": "markdown",
   "id": "ffb28996-1d5f-4c71-bfca-e59ddb2bb12e",
   "metadata": {},
   "source": [
    "# ans"
   ]
  },
  {
   "cell_type": "code",
   "execution_count": 5,
   "id": "9621a2e2-5ca6-46ce-b20e-b85d9f862d5e",
   "metadata": {},
   "outputs": [
    {
     "name": "stdout",
     "output_type": "stream",
     "text": [
      "{'w': 1, '3': 1, 'r': 2, 'e': 2, 's': 1, 'o': 1, 'u': 1, 'c': 1}\n"
     ]
    }
   ],
   "source": [
    "x = \"w3resource\"\n",
    "dic = {}\n",
    "\n",
    "for n in x :\n",
    "    dic[n]=dic.get(n,0)+1\n",
    "print(dic)    "
   ]
  },
  {
   "cell_type": "code",
   "execution_count": 8,
   "id": "e3021f9c-71cf-41d4-a330-7948dbd491dd",
   "metadata": {},
   "outputs": [],
   "source": [
    "# module 7 que 61"
   ]
  },
  {
   "cell_type": "markdown",
   "id": "fce5c6c4-6c7b-4a37-8b55-9cf365c14b46",
   "metadata": {},
   "source": [
    "# ans"
   ]
  },
  {
   "cell_type": "code",
   "execution_count": 14,
   "id": "e36ef1c5-3392-4f68-889c-e26c792cd04c",
   "metadata": {},
   "outputs": [
    {
     "name": "stdin",
     "output_type": "stream",
     "text": [
      "Enter the number: 10\n"
     ]
    },
    {
     "name": "stdout",
     "output_type": "stream",
     "text": [
      "factorial 10 is 3628800\n"
     ]
    }
   ],
   "source": [
    "x = int(input(\"Enter the number:\"))\n",
    "fact = 1\n",
    "for i in range(1,x+1):\n",
    "    fact = fact*i\n",
    "print(\"factorial\",x,\"is\",fact)"
   ]
  },
  {
   "cell_type": "code",
   "execution_count": 15,
   "id": "e017e5b5-0158-4070-96dc-4bbf344d7549",
   "metadata": {},
   "outputs": [],
   "source": [
    "# module 7 que 62"
   ]
  },
  {
   "cell_type": "markdown",
   "id": "f88578cc-f539-46a4-ba8e-b874c650f548",
   "metadata": {},
   "source": [
    "# ans"
   ]
  },
  {
   "cell_type": "code",
   "execution_count": 19,
   "id": "6bdf843a-32e6-46b9-98a5-0b9e77b336b9",
   "metadata": {},
   "outputs": [
    {
     "name": "stdin",
     "output_type": "stream",
     "text": [
      "Enter Lower Number : 100\n",
      "Emter Upper Number: 200\n",
      "Enter the Number : 125\n"
     ]
    },
    {
     "name": "stdout",
     "output_type": "stream",
     "text": [
      "Num is in Range\n"
     ]
    }
   ],
   "source": [
    "x = int(input(\"Enter Lower Number :\" ))\n",
    "y = int(input(\"Emter Upper Number:\"))\n",
    "n = int(input(\"Enter the Number :\"))\n",
    "\n",
    "if n in range(x,y):\n",
    "    print(\"Num is in Range\")\n",
    "else :\n",
    "    print(\"Num is not in range\")\n",
    "    "
   ]
  },
  {
   "cell_type": "code",
   "execution_count": 20,
   "id": "937c56dc-285b-4a11-a9e7-7190383e8560",
   "metadata": {},
   "outputs": [],
   "source": [
    "# module 7 que 63"
   ]
  },
  {
   "cell_type": "markdown",
   "id": "068ba1e1-b740-49d2-8796-b6ea9914628e",
   "metadata": {},
   "source": [
    "# ans"
   ]
  },
  {
   "cell_type": "code",
   "execution_count": 50,
   "id": "f66b6f50-1c14-4ed3-8d9f-16e8350b62ff",
   "metadata": {},
   "outputs": [
    {
     "name": "stdin",
     "output_type": "stream",
     "text": [
      "enter the number : 28\n"
     ]
    },
    {
     "name": "stdout",
     "output_type": "stream",
     "text": [
      "Enter Num is perfect\n"
     ]
    }
   ],
   "source": [
    "x = int(input(\"enter the number :\"))\n",
    "i =1\n",
    "s =0\n",
    "for i in range(1,x):\n",
    "    if x%i==0:\n",
    "        s=s+i\n",
    "if s==x :\n",
    "   print(\"Enter Num is perfect\")\n",
    "else:\n",
    "    print(\"Enter num in not\")\n"
   ]
  },
  {
   "cell_type": "code",
   "execution_count": 51,
   "id": "c29b4a45-7a69-43b4-8893-d02bc65a4b2c",
   "metadata": {},
   "outputs": [],
   "source": [
    "# module 7 que 64"
   ]
  },
  {
   "cell_type": "markdown",
   "id": "86183ced-b1e6-4463-b16d-c5ee951bb798",
   "metadata": {},
   "source": [
    "# ans"
   ]
  },
  {
   "cell_type": "code",
   "execution_count": 59,
   "id": "b88da623-f96e-45fa-adba-bc2b1b32780e",
   "metadata": {},
   "outputs": [
    {
     "name": "stdin",
     "output_type": "stream",
     "text": [
      "Enter the string: kakak\n"
     ]
    },
    {
     "name": "stdout",
     "output_type": "stream",
     "text": [
      "Enter word is palindrome\n"
     ]
    }
   ],
   "source": [
    "x = input(\"Enter the string:\")\n",
    "y = x[-1::-1]\n",
    "if x==y:\n",
    "    print(\"Enter word is palindrome\")\n",
    "else:\n",
    "    print(\"Enter word is not palindrome\")\n"
   ]
  },
  {
   "cell_type": "code",
   "execution_count": 1,
   "id": "81759bbd-7113-49da-9393-3b49a12b6682",
   "metadata": {},
   "outputs": [],
   "source": [
    "# module 7 que 66"
   ]
  },
  {
   "cell_type": "markdown",
   "id": "6a0864c7-5323-49cb-bc55-49546258eb47",
   "metadata": {},
   "source": [
    "# ans"
   ]
  },
  {
   "cell_type": "code",
   "execution_count": 2,
   "id": "8d6eed1a-9ca9-4fd1-ba87-6c9bba1d4225",
   "metadata": {},
   "outputs": [],
   "source": [
    "import random"
   ]
  },
  {
   "cell_type": "code",
   "execution_count": 9,
   "id": "6fee0d58-1b20-48fa-ab1f-3f854501ec7c",
   "metadata": {},
   "outputs": [
    {
     "name": "stdout",
     "output_type": "stream",
     "text": [
      "78\n"
     ]
    }
   ],
   "source": [
    "list = [23,56,89,78]\n",
    "print(random.choice(list))"
   ]
  },
  {
   "cell_type": "code",
   "execution_count": 10,
   "id": "b57b3e32-f2c0-47b2-a4dc-1456b8f34408",
   "metadata": {},
   "outputs": [],
   "source": [
    "# module 7 que 67"
   ]
  },
  {
   "cell_type": "markdown",
   "id": "274e22a1-de70-4b55-8229-e73e6e914630",
   "metadata": {},
   "source": [
    "# ans "
   ]
  },
  {
   "cell_type": "code",
   "execution_count": 13,
   "id": "a84f2a47-4c59-4d5e-bd47-c487e3b9adc2",
   "metadata": {},
   "outputs": [
    {
     "name": "stdout",
     "output_type": "stream",
     "text": [
      "7\n"
     ]
    }
   ],
   "source": [
    "print(random.randrange(1,10))"
   ]
  },
  {
   "cell_type": "code",
   "execution_count": 15,
   "id": "6263c832-02f6-4b40-b856-ff11f0c1623e",
   "metadata": {},
   "outputs": [],
   "source": [
    "# module 7 que 68"
   ]
  },
  {
   "cell_type": "markdown",
   "id": "d06b1280-d2cb-4596-88ef-8c762864d82e",
   "metadata": {},
   "source": [
    "# ans"
   ]
  },
  {
   "cell_type": "code",
   "execution_count": 14,
   "id": "27ca7ac2-5a12-4fe9-a25f-84eaf43acfe4",
   "metadata": {},
   "outputs": [
    {
     "name": "stdout",
     "output_type": "stream",
     "text": [
      "0.881398591627764\n"
     ]
    }
   ],
   "source": [
    "print(random.random())"
   ]
  },
  {
   "cell_type": "code",
   "execution_count": 16,
   "id": "bb7d0870-b4e8-4190-b40c-8e9f7122cb24",
   "metadata": {},
   "outputs": [],
   "source": [
    "# module 7 que 69"
   ]
  },
  {
   "cell_type": "markdown",
   "id": "7ebf7f95-c85c-4dcb-8c8e-3ea53ddb908a",
   "metadata": {},
   "source": [
    "# ans "
   ]
  },
  {
   "cell_type": "code",
   "execution_count": 20,
   "id": "c5828cac-ad2f-4782-ad32-78b5353567d8",
   "metadata": {},
   "outputs": [
    {
     "name": "stdout",
     "output_type": "stream",
     "text": [
      "rand: (3, (2925934590, 2479168249, 1030837426, 2826839550, 3118345342, 740901012, 2936616646, 3285648529, 2166264158, 1305871652, 2707554422, 568159295, 3413259819, 1315698824, 4255474127, 2930874327, 1126174227, 3346660587, 730483549, 4054705823, 818358956, 3876401278, 1682297296, 1195253646, 3814140034, 2713245169, 947197214, 2154357721, 4229377442, 2695391051, 1611044586, 507536978, 2303583937, 3426413958, 4094785489, 3871342987, 2067218708, 3925659095, 2929188097, 3664364661, 2763368809, 1758630350, 4094505720, 2109202372, 4019599333, 1178997704, 4030070984, 3850388791, 2102134758, 407705356, 3859187999, 3388220570, 98323610, 2794373522, 2423181099, 871399587, 709793915, 342688528, 2022188078, 2895953911, 2062054473, 503436458, 4199533938, 347912304, 1917012913, 2181047983, 23404800, 1285484186, 1107474633, 3283784660, 2660480033, 2364774303, 2931166428, 1702705409, 3858269726, 3807569122, 1100273630, 1120486064, 2013572214, 489652872, 3510416831, 116769264, 4127168039, 1902553775, 1169553836, 3091461011, 2175857126, 254235355, 2164248124, 3046325998, 2473110274, 4032592251, 2235550509, 3663805796, 187780407, 2439615630, 791185470, 2893671246, 4248245418, 2348575604, 1752520590, 2206165679, 3340474365, 3506727290, 1429963829, 1177654955, 3633294236, 1617535378, 373546050, 433487581, 2996685117, 2601557483, 1421468180, 3592931124, 3134588319, 1200358160, 1872538670, 175090983, 1096218555, 417531786, 2222900723, 1969463163, 2252285631, 3577952027, 2535027690, 572634359, 830564979, 4090835100, 1750308278, 1220998143, 1675496302, 1633986449, 620973873, 2659556948, 865802567, 1611201795, 3945631411, 4142064873, 1094267234, 370733621, 3804773565, 1252711432, 427616945, 1563823782, 492493306, 530544865, 421165717, 628986438, 3443931635, 3627654145, 4078404904, 1129071404, 2735714179, 2863935927, 938452662, 2122108718, 3190508778, 2598937532, 4047168913, 1680220683, 235355798, 3117961939, 1924093436, 759742163, 1710182584, 4135686586, 1120882422, 3834834130, 889269500, 1168054408, 379246780, 981525426, 889848185, 1385778505, 3501907583, 4149432024, 3991759228, 512741617, 2079247619, 726521982, 1606874364, 457070083, 1926000396, 3431665703, 1604940588, 3117703336, 1793954101, 2033762379, 1643323404, 2402246596, 3256620314, 2169799815, 634341517, 3577913413, 1643777784, 1293024320, 3244297562, 4044244100, 2432199598, 1267840914, 1773954829, 793600966, 3541776661, 1069565473, 3813761041, 2795068310, 2252388026, 3192258599, 1053669514, 3917975394, 2791587559, 3297067210, 602801339, 1174436517, 3475528696, 2197266128, 1744747610, 2527266026, 3876080512, 1056059239, 4106020107, 105006870, 696265163, 2091574040, 13498521, 1780275584, 198525115, 1419808807, 1426601717, 3760087210, 2630190274, 1135226285, 3404907581, 3633996555, 4051127033, 901692925, 1241134840, 3079479557, 2453084364, 2317404803, 1945210327, 1725497838, 1064307635, 2087447026, 1263120110, 1915868082, 3373960099, 1105311250, 3063678619, 2029239913, 2727453406, 1632235477, 3629358439, 2989055661, 3732548570, 2543435567, 1731863388, 2657259589, 3072304109, 1341159022, 3181407113, 165044377, 3543605141, 1009403248, 3267968840, 201805141, 4209691265, 3938929140, 1242990503, 2761233938, 148067710, 4228024518, 1657227056, 508023599, 3431193033, 2271482427, 1884315276, 601008894, 3391342634, 1310166786, 2087441597, 953705708, 1216788804, 3835325107, 2105709073, 4088573280, 500199251, 57897985, 3867212265, 1088328089, 2073028728, 44253645, 19011527, 262588202, 1627349653, 4267603924, 1805356336, 2174760325, 1601111168, 806947850, 271870338, 98302603, 3042902607, 2966263890, 4271293326, 4109434368, 487233313, 1605316578, 3039755272, 3195653, 3138485592, 82074409, 61845606, 2191201684, 3868079114, 3978827265, 3482842049, 351262988, 417263765, 864353437, 726964032, 2090829616, 603426316, 1567446036, 428380165, 2196847937, 3953578269, 57749149, 3582106423, 184247385, 3195480704, 318884578, 3762989451, 654644068, 403766616, 813587962, 217893312, 1352681427, 2887827206, 3102398289, 6514257, 4107901821, 218036947, 3657586231, 3439399123, 2133835022, 3600691643, 1630983545, 1166306408, 1376295014, 238292997, 2226746764, 2217529118, 1888788960, 2159353100, 533924686, 3081601887, 1128736349, 518525590, 96222922, 913522673, 1177966860, 1440547454, 3008214052, 1773316943, 2812906579, 114095717, 1194661488, 721660024, 1439261238, 2212288598, 1854164546, 105510861, 406513630, 263195935, 958928718, 2545550479, 3191778555, 76018023, 3419317486, 565340454, 1292152981, 1704063659, 1146700978, 2163282756, 1854195765, 1906323004, 2688491712, 2182603071, 2115562225, 4187350764, 1994764600, 1260043231, 913429016, 2328389346, 292511119, 1048537725, 937867073, 2606919361, 3230237666, 3713435979, 2138628024, 3949736999, 478684313, 3674694193, 1212060106, 1904099294, 3642777883, 1577577851, 2219255804, 4042717113, 3178618555, 1149677523, 1576714861, 3227863267, 1947699416, 69256176, 2041095485, 2538406250, 3810608267, 86000520, 1028108894, 2540039911, 3803918079, 1835575696, 4272466308, 3987193768, 1813367045, 3042352597, 876548911, 751072306, 578615332, 3529791638, 3228481537, 4021241323, 2373276403, 2148368981, 546310222, 2302027289, 1484465, 2587957758, 2147459225, 3533844466, 1336005115, 3545157690, 2337083383, 3408647144, 2851998895, 114154230, 2388943169, 2222557853, 4179588524, 3696978249, 4219684252, 3076882835, 4014904629, 1954836882, 801155293, 279641193, 1647225645, 1030257546, 2601111264, 3312666174, 1339848871, 1518068945, 1139204000, 3436756504, 2129979635, 2937430499, 2581678571, 308019262, 810545494, 2793592557, 1748498530, 1178641106, 3792808093, 3433031609, 3172913595, 1111460173, 3694137873, 812146610, 400259635, 3068596871, 3971104444, 1252370532, 3963746603, 796330422, 2841105392, 2014154472, 146048970, 2709444189, 2312921146, 3333901611, 871875421, 1273184537, 1884787887, 2988340192, 3319241940, 459574302, 2732660674, 1694775845, 4051227786, 2287161390, 942283328, 3230551639, 1319292088, 3631036389, 4017451069, 697970222, 1454753136, 1019903722, 2313242519, 3572290903, 1408661399, 521653045, 2505742033, 967093789, 1377940733, 2064650684, 2655780321, 969804086, 4043058982, 3722490966, 1970479977, 2644930146, 2423727133, 1557966542, 2180969550, 3933889835, 757362918, 412602894, 708191390, 2972391024, 3884294686, 4277724508, 666867243, 284609505, 2854247800, 2741650379, 1300707246, 1031570915, 4263880995, 1035141890, 1875140239, 2896055430, 866942275, 2593429474, 2526695868, 3283605412, 735676252, 2274988187, 259266209, 2326432885, 57595619, 3584837467, 724808606, 691894329, 3680564086, 3730492514, 2835012909, 731280933, 1841550736, 1681609910, 3562727482, 3096110922, 3163812231, 4107975502, 2531478003, 4269489649, 3420836527, 2164856594, 75585923, 2471302813, 3482535747, 3894401656, 170650407, 679129547, 459061280, 4073632820, 4000420695, 5493552, 1456303406, 3232104301, 1344585575, 1262928629, 1661402101, 1774428111, 2110598659, 3796067028, 1042024442, 995532960, 126139359, 2899040837, 2249356011, 3921334254, 2485794250, 1123005152, 475381116, 1666160361, 1822920535, 482238697, 1322999638, 394507149, 3775666587, 1882985657, 351214257, 2543241759, 3756312601, 1145717018, 4166336654, 1922386415, 1207278855, 1776017169, 4160849105, 1699236071, 1428377457, 2475839678, 1786196515, 3825468476, 2381514954, 2177973462, 860124394, 3600830509, 1766617474, 13), None)\n",
      "\n",
      "randd: 0.4879222065886518\n",
      "\n",
      "sett: 0.4879222065886518\n"
     ]
    }
   ],
   "source": [
    "rd = random.getstate()\n",
    "print(\"rand:\",rd)\n",
    "print()\n",
    "print(\"randd:\",random.random())\n",
    "print()\n",
    "n=random.setstate(rd)\n",
    "print(\"sett:\",random.random())"
   ]
  },
  {
   "cell_type": "code",
   "execution_count": 21,
   "id": "9fa3bfd8-d238-4c7f-839c-157f5408eced",
   "metadata": {},
   "outputs": [],
   "source": [
    "# module 7 que 70"
   ]
  },
  {
   "cell_type": "markdown",
   "id": "1371c2af-d033-42a8-8cce-08dd01d9ea32",
   "metadata": {},
   "source": [
    "# ans"
   ]
  },
  {
   "cell_type": "code",
   "execution_count": 28,
   "id": "d98b717b-171d-4277-84d4-15dd46d9b867",
   "metadata": {},
   "outputs": [
    {
     "data": {
      "text/plain": [
       "['y', 'x', 'z']"
      ]
     },
     "execution_count": 28,
     "metadata": {},
     "output_type": "execute_result"
    }
   ],
   "source": [
    "lst = [\"x\",\"y\",\"z\"]\n",
    "random.shuffle(lst)\n",
    "lst"
   ]
  },
  {
   "cell_type": "code",
   "execution_count": 1,
   "id": "3cb71f8a-7ea3-4989-bf65-07f2b2396aec",
   "metadata": {},
   "outputs": [],
   "source": [
    "# module 7 que 72"
   ]
  },
  {
   "cell_type": "markdown",
   "id": "d689def2-6dcc-4cdb-a775-4767736780ee",
   "metadata": {},
   "source": [
    "# ans"
   ]
  },
  {
   "cell_type": "code",
   "execution_count": 6,
   "id": "5bec2575-38e9-470a-a37b-0a9310199ddb",
   "metadata": {},
   "outputs": [
    {
     "name": "stdout",
     "output_type": "stream",
     "text": [
      "hii my name is kalgi\n",
      "i am learning python coding\n"
     ]
    }
   ],
   "source": [
    "g = open(\"kalgipatel.txt\",\"r\")\n",
    "g\n",
    "print(g.read())\n",
    "g.close()"
   ]
  },
  {
   "cell_type": "code",
   "execution_count": 12,
   "id": "497d2279-9a50-45b4-9de0-bad68ffdda7b",
   "metadata": {},
   "outputs": [],
   "source": [
    "# module 7 que 73"
   ]
  },
  {
   "cell_type": "markdown",
   "id": "1842b0d0-b0cb-42d9-9c0e-9b6c3e40fd15",
   "metadata": {},
   "source": [
    "# ans"
   ]
  },
  {
   "cell_type": "code",
   "execution_count": 22,
   "id": "b934dc0b-6f19-45a1-82f4-63c2c03f1e7b",
   "metadata": {},
   "outputs": [],
   "source": [
    "g = open(\"kalgipatel.txt\",\"a\")\n",
    "g.write(\"\\nhello world\")\n",
    "g.close()"
   ]
  },
  {
   "cell_type": "code",
   "execution_count": 21,
   "id": "f874bbd2-a05d-4d71-aeef-55db0e45ec40",
   "metadata": {},
   "outputs": [],
   "source": [
    "# module 7 que 74"
   ]
  },
  {
   "cell_type": "markdown",
   "id": "98ca1596-26f5-41b2-8146-19955955ab5a",
   "metadata": {},
   "source": [
    "# ans "
   ]
  },
  {
   "cell_type": "code",
   "execution_count": 117,
   "id": "04504fb2-746a-4bce-90a4-13f31aeeb8b4",
   "metadata": {},
   "outputs": [
    {
     "name": "stdout",
     "output_type": "stream",
     "text": [
      "hii my name is kalgi\n"
     ]
    }
   ],
   "source": [
    "g = open(\"kalgipatel.txt\",\"r\")\n",
    "for n in (g.readlines(2)):\n",
    "    print(n,end=\"\")    \n",
    "g.close()        "
   ]
  },
  {
   "cell_type": "code",
   "execution_count": 50,
   "id": "eeca218f-3d54-4494-8b75-8cf5ec0fdeee",
   "metadata": {},
   "outputs": [],
   "source": [
    "# module 7 que 75"
   ]
  },
  {
   "cell_type": "markdown",
   "id": "6e64e845-4c94-4224-a248-5acdfcee0215",
   "metadata": {},
   "source": [
    "# ans"
   ]
  },
  {
   "cell_type": "code",
   "execution_count": 131,
   "id": "893d53ea-dd8c-4588-bbad-624528092859",
   "metadata": {},
   "outputs": [
    {
     "name": "stdout",
     "output_type": "stream",
     "text": [
      "hii my name is kalgi\n",
      "i am learning python coding\n",
      "hello world"
     ]
    }
   ],
   "source": [
    "#n= int(input(\"enter the line:\"))   \n",
    "g = open(\"kalgipatel.txt\",\"r\")\n",
    "i=g.readlines()\n",
    "for n in i :\n",
    "    print(n,end=\"\") \n",
    "i[1]   \n",
    "g.close()        "
   ]
  },
  {
   "cell_type": "code",
   "execution_count": 215,
   "id": "f913c3bb-0281-4a3f-8aec-ab0a8faf00d4",
   "metadata": {},
   "outputs": [],
   "source": [
    "# module 7 que 76"
   ]
  },
  {
   "cell_type": "markdown",
   "id": "58a46b1d-4678-4197-9cb7-43f8793114da",
   "metadata": {},
   "source": [
    "# ans"
   ]
  },
  {
   "cell_type": "code",
   "execution_count": 119,
   "id": "6d0b260e-2b91-45d6-9413-3bdd5fa5ba6c",
   "metadata": {},
   "outputs": [
    {
     "name": "stdout",
     "output_type": "stream",
     "text": [
      "['hii my name is kalgi\\n', 'i am learning python coding\\n', 'hello world']\n"
     ]
    }
   ],
   "source": [
    "file = open(\"kalgipatel.txt\")\n",
    "n = file.readlines() \n",
    "\n",
    "print(n)"
   ]
  },
  {
   "cell_type": "code",
   "execution_count": 134,
   "id": "3749a720-346b-47f0-a3b1-f50f37a7a0ab",
   "metadata": {},
   "outputs": [],
   "source": [
    "# module 7 que 77"
   ]
  },
  {
   "cell_type": "markdown",
   "id": "919876ea-94ac-463e-a4e2-b3e277de7d58",
   "metadata": {},
   "source": [
    "# ans "
   ]
  },
  {
   "cell_type": "code",
   "execution_count": 132,
   "id": "00e21a79-43b4-45f3-a437-158669f89659",
   "metadata": {},
   "outputs": [
    {
     "name": "stdout",
     "output_type": "stream",
     "text": [
      "variable: ['hii my name is kalgi\\n', 'i am learning python coding\\n', 'hello world']\n"
     ]
    }
   ],
   "source": [
    "file = open(\"kalgipatel.txt\")\n",
    "n = file.readlines() \n",
    "\n",
    "print(\"variable:\",n)"
   ]
  },
  {
   "cell_type": "code",
   "execution_count": 133,
   "id": "beba9326-8241-4e03-99e8-ae4540012f83",
   "metadata": {},
   "outputs": [],
   "source": [
    "# module 7 que 78"
   ]
  },
  {
   "cell_type": "markdown",
   "id": "ccfbda96-c9aa-46c3-97b0-792ce9da6bf4",
   "metadata": {},
   "source": [
    "# ans "
   ]
  },
  {
   "cell_type": "code",
   "execution_count": 142,
   "id": "59baaa3a-5132-4744-b51f-354662742f20",
   "metadata": {},
   "outputs": [
    {
     "name": "stdout",
     "output_type": "stream",
     "text": [
      "['hii', 'my', 'name', 'is', 'kalgi', 'i', 'am', 'learning', 'python', 'coding', 'hello', 'world']\n",
      "largest word is: learning\n"
     ]
    }
   ],
   "source": [
    "f = open(\"kalgipatel.txt\",\"r\")\n",
    "n=f.read()\n",
    "s = n.split()\n",
    "print(s)\n",
    "print(\"largest word is:\" ,max(s,key=len))\n"
   ]
  },
  {
   "cell_type": "code",
   "execution_count": 143,
   "id": "0e915d0c-d5f4-4407-b5e7-7ffc1a8d26f1",
   "metadata": {},
   "outputs": [],
   "source": [
    "# module 7 que 79"
   ]
  },
  {
   "cell_type": "markdown",
   "id": "736e897b-357a-46d0-86db-29d71107b3d6",
   "metadata": {},
   "source": [
    "# ans"
   ]
  },
  {
   "cell_type": "code",
   "execution_count": 160,
   "id": "b0578c53-cd33-4fd0-b968-46cbb776d1b1",
   "metadata": {},
   "outputs": [
    {
     "name": "stdout",
     "output_type": "stream",
     "text": [
      "['hii my name is kalgi\\n', 'i am learning python coding\\n', 'hello world']\n",
      "number of line: 3\n"
     ]
    }
   ],
   "source": [
    "f = open(\"kalgipatel.txt\",\"r\")\n",
    "n = f.readlines()\n",
    "print(n)\n",
    "print(\"number of line:\",len(n))\n",
    "f.close()        "
   ]
  },
  {
   "cell_type": "code",
   "execution_count": 159,
   "id": "f6331781-839a-4572-bb43-1f369494be65",
   "metadata": {},
   "outputs": [],
   "source": [
    "# module 7 que 80"
   ]
  },
  {
   "cell_type": "markdown",
   "id": "27deb115-a3b7-42d0-940e-793b5ba4fe82",
   "metadata": {},
   "source": [
    "# ans"
   ]
  },
  {
   "cell_type": "code",
   "execution_count": 189,
   "id": "86ab05ef-7699-40c9-874c-16d1b4feaf6a",
   "metadata": {},
   "outputs": [
    {
     "name": "stdin",
     "output_type": "stream",
     "text": [
      "enter word: you\n"
     ]
    },
    {
     "name": "stdout",
     "output_type": "stream",
     "text": [
      "the count of frequent word is: 3\n"
     ]
    }
   ],
   "source": [
    "f = open(\"file.txt\",\"r\")\n",
    "w = input(\"enter word:\")\n",
    "s = f.read()\n",
    "lst = s.split()\n",
    "count = 0\n",
    "for i in lst :\n",
    "    if (i == w):\n",
    "        count+=1\n",
    "print(\"the count of frequent word is:\",count)"
   ]
  },
  {
   "cell_type": "code",
   "execution_count": null,
   "id": "33042ae8-8cf9-46ef-89a3-d68fbf5c86ce",
   "metadata": {},
   "outputs": [],
   "source": [
    "# module 7 que 81"
   ]
  },
  {
   "cell_type": "markdown",
   "id": "be736e12-291e-4981-886f-1c0730380712",
   "metadata": {},
   "source": [
    "# ans"
   ]
  },
  {
   "cell_type": "code",
   "execution_count": 210,
   "id": "0d74c830-afba-4229-97ac-f65f7dc3b066",
   "metadata": {},
   "outputs": [],
   "source": [
    "lst = [\"apple\",\"banana\",\"cat\",\"dog\",\"elephant\"]\n",
    "f = open(\"new file.txt\",\"w\")\n",
    "for i in lst :\n",
    "    f.write(i +\"\\n\")\n",
    "    "
   ]
  },
  {
   "cell_type": "code",
   "execution_count": 209,
   "id": "d56a5361-dab7-422e-81e9-0ec02fac12f6",
   "metadata": {},
   "outputs": [],
   "source": [
    "# module 7 que 82"
   ]
  },
  {
   "cell_type": "markdown",
   "id": "e5ec3931-319a-4eff-ab08-d56cd13cc5f6",
   "metadata": {},
   "source": [
    "# ans"
   ]
  },
  {
   "cell_type": "code",
   "execution_count": 208,
   "id": "1ec3c696-c15a-49e5-ba9d-f470d3058e9f",
   "metadata": {},
   "outputs": [],
   "source": [
    "f1 = open(\"file1.txt\",\"r\")\n",
    "f2 = open(\"file2.txt\",\"w\")\n",
    "f3=f1.readlines()\n",
    "for i in f3 :\n",
    "    f2.write(i)"
   ]
  },
  {
   "cell_type": "code",
   "execution_count": 212,
   "id": "d605c1f4-7cc5-422e-bf2a-2ce208cbe52f",
   "metadata": {},
   "outputs": [],
   "source": [
    "# module 7 que 89"
   ]
  },
  {
   "cell_type": "markdown",
   "id": "ff768781-8ff1-450e-ab0b-d536702ca462",
   "metadata": {},
   "source": [
    "# ans"
   ]
  },
  {
   "cell_type": "code",
   "execution_count": 213,
   "id": "5398f088-cf4d-42e0-8ad9-0a95d4934e26",
   "metadata": {},
   "outputs": [
    {
     "name": "stdin",
     "output_type": "stream",
     "text": [
      "Enter a number :  1\n",
      "Enter 2nd number :  2\n"
     ]
    },
    {
     "name": "stdout",
     "output_type": "stream",
     "text": [
      "add:  0.5\n",
      "success\n",
      "okkkkk\n"
     ]
    }
   ],
   "source": [
    "n = int(input(\"Enter a number : \"))\n",
    "b = int(input(\"Enter 2nd number : \"))\n",
    "try :\n",
    "    print(\"add: \",n/b)\n",
    "except :\n",
    "    print(\"solved\")\n",
    "else :\n",
    "    print(\"success\")\n",
    "finally : \n",
    "    print(\"okkkkk\")"
   ]
  },
  {
   "cell_type": "code",
   "execution_count": 214,
   "id": "6b0a5340-36a4-476a-accb-bff8cd160a03",
   "metadata": {},
   "outputs": [],
   "source": [
    "# module 7 que 90"
   ]
  },
  {
   "cell_type": "markdown",
   "id": "dcc34ac3-ad7a-4dda-b3c7-f2466af84379",
   "metadata": {},
   "source": [
    "# ans"
   ]
  },
  {
   "cell_type": "code",
   "execution_count": null,
   "id": "58563fb9-90e0-4a46-a00e-6857864d2157",
   "metadata": {},
   "outputs": [],
   "source": []
  }
 ],
 "metadata": {
  "kernelspec": {
   "display_name": "Python 3 (ipykernel)",
   "language": "python",
   "name": "python3"
  },
  "language_info": {
   "codemirror_mode": {
    "name": "ipython",
    "version": 3
   },
   "file_extension": ".py",
   "mimetype": "text/x-python",
   "name": "python",
   "nbconvert_exporter": "python",
   "pygments_lexer": "ipython3",
   "version": "3.12.4"
  }
 },
 "nbformat": 4,
 "nbformat_minor": 5
}
